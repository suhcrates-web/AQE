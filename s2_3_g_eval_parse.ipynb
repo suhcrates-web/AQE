{
 "cells": [
  {
   "cell_type": "code",
   "execution_count": null,
   "metadata": {},
   "outputs": [],
   "source": [
    "import jsonlines\n",
    "\n",
    "## choose one of the dataset in ``d3_datasets_k_labeled'' step, which contains g_eval statements. In this script, the g_eval statements are parsed into True/False k_label values.\n",
    "\n",
    "# Dataset with k_label is overwrited to the original dataset file, so be careful.\n",
    "\n",
    "file0 = \"./d3_datasets_k_labeled/Explain/explain_dev_Meta-Llama-3-8B-Instruct.jsonl\"\n",
    "\n",
    "with jsonlines.open(file0, 'r') as f:\n",
    "    lines = list(f)"
   ]
  },
  {
   "cell_type": "code",
   "execution_count": null,
   "metadata": {},
   "outputs": [],
   "source": [
    "\n",
    "import re\n",
    "from tqdm import tqdm\n",
    "\n",
    "with jsonlines.open(file0, 'w') as f:\n",
    "    for line in tqdm(lines):\n",
    "    \n",
    "        temp = re.search(r'(?<=2\\)).*',line['geval_raw'].replace(\"\\n\",''))\n",
    "        annot = temp[0]\n",
    "\n",
    "        if 'true' in annot.lower():\n",
    "            label0 = True\n",
    "        elif 'false' in annot.lower():\n",
    "            label0 = False\n",
    "        else:\n",
    "            print(line['geval_raw'])\n",
    "            print(annot)\n",
    "            break\n",
    "\n",
    "        line['q_text'] = line['prompt']\n",
    "        del line['prompt']\n",
    "\n",
    "        temp = re.sub(r'.+\\[Answer\\]:','',line['question_answer'].replace(\"\\n\",''))\n",
    "        line['a_text'] = temp\n",
    "        line['k_label'] = label0\n",
    "\n",
    "        f.write(line)"
   ]
  }
 ],
 "metadata": {
  "language_info": {
   "name": "python"
  }
 },
 "nbformat": 4,
 "nbformat_minor": 2
}
