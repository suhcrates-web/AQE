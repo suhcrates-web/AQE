{
 "cells": [
  {
   "cell_type": "code",
   "execution_count": null,
   "id": "1eb43691",
   "metadata": {},
   "outputs": [],
   "source": [
    "##### Explain \n",
    "# domain\n",
    "\n",
    "import jsonlines\n",
    "\n",
    "with jsonlines.open(\"datasets/d3_datasets_k_labeled/Explain/explain_dev_Meta-Llama-3-8B-Instruct.jsonl\", 'r') as f:\n",
    "    dataset1 = list(f)\n",
    "with jsonlines.open(\"datasets/d3_datasets_k_labeled/Explain/explain_test_Meta-Llama-3-8B-Instruct.jsonl\", 'r') as f:\n",
    "    dataset2 = list(f)\n",
    "with jsonlines.open(\"datasets/d3_datasets_k_labeled/Explain/explain_train_Meta-Llama-3-8B-Instruct.jsonl\", 'r') as f:\n",
    "    dataset3 = list(f)\n",
    "    \n",
    "dataset = dataset1 + dataset2 + dataset3"
   ]
  },
  {
   "cell_type": "code",
   "execution_count": null,
   "id": "7747f0d0",
   "metadata": {},
   "outputs": [],
   "source": [
    "category_a = ['books', 'movies', 'music', 'sports']\n",
    "category_b = ['videogames', 'history', 'geography', 'politics']\n",
    "\n",
    "category_a_list = []\n",
    "category_b_list = []\n",
    "for data in dataset:\n",
    "    if data['category'] in category_a:\n",
    "        category_a_list.append(data)\n",
    "    elif data['category'] in category_b:\n",
    "        category_b_list.append(data)"
   ]
  },
  {
   "cell_type": "code",
   "execution_count": null,
   "id": "cc49c913",
   "metadata": {},
   "outputs": [],
   "source": [
    "with jsonlines.open(\"datasets/d4_datasets_refined/Explain/domain/explain_category_A_Meta-Llama-3-8B-Instruct.jsonl\", 'w') as f:\n",
    "    f.write_all(category_a_list)\n",
    "    \n",
    "with jsonlines.open(\"datasets/d4_datasets_refined/Explain/domain/explain_category_B_Meta-Llama-3-8B-Instruct.jsonl\", 'w') as f:\n",
    "    f.write_all(category_b_list)"
   ]
  },
  {
   "cell_type": "code",
   "execution_count": null,
   "id": "f7d3dcb2",
   "metadata": {},
   "outputs": [],
   "source": [
    "#### Mintaka\n",
    "import jsonlines\n",
    "\n",
    "# type\n",
    "\n",
    "for target in ['dev','train','test']:\n",
    "    with jsonlines.open(f\"datasets/d3_datasets_k_labeled/Explain/mintaka_{target}_Meta-Llama-3-8B-Instruct.jsonl\", 'r') as f:\n",
    "        dataset = list(f)\n",
    "\n",
    "    new_dataset = []\n",
    "    for data in dataset:\n",
    "        if data['answerType'] not in ['boolean','numerical']:\n",
    "            new_dataset.append(data)\n",
    "            \n",
    "\n",
    "    with jsonlines.open(f\"datasets/d4_datasets_refined/Mintaka/type/mintaka_{target}_Meta-Llama-3-8B-Instruct.jsonl\", 'r') as f:\n",
    "        dataset = list(f)\n",
    "\n",
    "\n"
   ]
  },
  {
   "cell_type": "code",
   "execution_count": null,
   "id": "98ed6a15",
   "metadata": {},
   "outputs": [],
   "source": [
    "# type + domain\n",
    "\n",
    "import jsonlines\n",
    "\n",
    "with jsonlines.open(\"datasets/d4_datasets_refined/Mintaka/type/mintaka_dev_Meta-Llama-3-8B-Instruct.jsonl\", 'r') as f:\n",
    "    dataset1 = list(f)\n",
    "with jsonlines.open(\"datasets/d4_datasets_refined/Mintaka/type/mintaka_test_Meta-Llama-3-8B-Instruct.jsonl\", 'r') as f:\n",
    "    dataset2 = list(f)\n",
    "with jsonlines.open(\"datasets/d4_datasets_refined/Mintaka/type/mintaka_train_Meta-Llama-3-8B-Instruct.jsonl\", 'r') as f:\n",
    "    dataset3 = list(f)\n",
    "    \n",
    "dataset = dataset1 + dataset2 + dataset3"
   ]
  },
  {
   "cell_type": "code",
   "execution_count": null,
   "id": "891f6964",
   "metadata": {},
   "outputs": [],
   "source": [
    "category_a = ['books', 'movies', 'music', 'sports']\n",
    "category_b = ['videogames', 'history', 'geography', 'politics']\n",
    "\n",
    "category_a_list = []\n",
    "category_b_list = []\n",
    "for data in dataset:\n",
    "    if data['category'] in category_a:\n",
    "        category_a_list.append(data)\n",
    "    elif data['category'] in category_b:\n",
    "        category_b_list.append(data)"
   ]
  },
  {
   "cell_type": "code",
   "execution_count": null,
   "id": "e70e22b4",
   "metadata": {},
   "outputs": [],
   "source": [
    "with jsonlines.open(\"datasets/d4_datasets_refined/Mintaka/type_domain/mintaka_category_A_Meta-Llama-3-8B-Instruct.jsonl\", 'w') as f:\n",
    "    f.write_all(category_a_list)\n",
    "    \n",
    "with jsonlines.open(\"datasets/d4_datasets_refined/Mintaka/type_domain/mintaka_category_B_Meta-Llama-3-8B-Instruct.jsonl\", 'w') as f:\n",
    "    f.write_all(category_b_list)"
   ]
  },
  {
   "cell_type": "code",
   "execution_count": null,
   "id": "be041697",
   "metadata": {},
   "outputs": [],
   "source": [
    "#### hotpotQA\n",
    "import jsonlines\n",
    "# type\n",
    "\n",
    "\n",
    "for target in ['10k','test']:\n",
    "    with jsonlines.open(f\"datasets/d3_datasets_k_labeled/HotpotQA/hotpot_{target}_Meta-Llama-3-8B-Instruct.jsonl\", 'r') as f:\n",
    "        dataset = list(f)\n",
    "\n",
    "    new_dataset = []\n",
    "    for data in dataset:\n",
    "        if data['type'] not in ['comparison']:\n",
    "            new_dataset.append(data)\n",
    "            \n",
    "\n",
    "    with jsonlines.open(f\"datasets/d4_datasets_refined/HotpotQA/type/hotpot_{target}_Meta-Llama-3-8B-Instruct.jsonl\", 'r') as f:\n",
    "        dataset = list(f)\n",
    "\n"
   ]
  },
  {
   "cell_type": "code",
   "execution_count": null,
   "id": "d0829da2",
   "metadata": {},
   "outputs": [],
   "source": []
  }
 ],
 "metadata": {
  "language_info": {
   "name": "python"
  }
 },
 "nbformat": 4,
 "nbformat_minor": 5
}
